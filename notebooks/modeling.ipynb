{
 "cells": [
  {
   "cell_type": "code",
   "execution_count": 51,
   "metadata": {},
   "outputs": [],
   "source": [
    "import pandas as pd\n",
    "import numpy as np\n",
    "import matplotlib.pyplot as plt\n",
    "import seaborn as sns\n",
    "#from sklearn.preprocessing import StandardScaler\n",
    "from sklearn.model_selection import train_test_split\n",
    "from sklearn.linear_model import LogisticRegression\n",
    "from sklearn.metrics import confusion_matrix, classification_report, accuracy_score\n",
    "from sklearn.ensemble import RandomForestClassifier\n",
    "#from sklearn.svm import SVC\n",
    "from sklearn.model_selection import cross_val_score\n",
    "from sklearn.model_selection import GridSearchCV\n",
    "from sklearn.model_selection import RandomizedSearchCV\n",
    "\n",
    "import nltk\n",
    "from nltk.corpus import stopwords\n",
    "#from nltk.stem import WordNetLemmatizer\n",
    "from sklearn.feature_extraction.text import CountVectorizer\n",
    "from sklearn.feature_extraction.text import TfidfVectorizer\n",
    "from sklearn.naive_bayes import MultinomialNB\n",
    "from nltk.probability import FreqDist\n",
    "from nltk.tokenize import regexp_tokenize, word_tokenize, RegexpTokenizer"
   ]
  },
  {
   "cell_type": "code",
   "execution_count": 54,
   "metadata": {},
   "outputs": [],
   "source": [
    "# Load the data\n",
    "eo_df = pd.read_csv('../data/eo_cleaned.csv', index_col=0)\n",
    "laws_df = pd.read_csv('../data/laws_cleaned.csv', index_col=0)\n",
    "\n",
    "# add target\n",
    "eo_df['target'] = 0\n",
    "laws_df['target'] = 1\n",
    "\n",
    "# add year column\n",
    "eo_df['year'] = pd.to_datetime(eo_df['date']).dt.year\n",
    "#eo_df['year'] = eo_df['year'].astype(int)\n",
    "laws_df['year'] = pd.to_datetime(laws_df['Date of Introduction']).dt.year\n"
   ]
  },
  {
   "cell_type": "code",
   "execution_count": 55,
   "metadata": {},
   "outputs": [
    {
     "data": {
      "text/html": [
       "<div>\n",
       "<style scoped>\n",
       "    .dataframe tbody tr th:only-of-type {\n",
       "        vertical-align: middle;\n",
       "    }\n",
       "\n",
       "    .dataframe tbody tr th {\n",
       "        vertical-align: top;\n",
       "    }\n",
       "\n",
       "    .dataframe thead th {\n",
       "        text-align: right;\n",
       "    }\n",
       "</style>\n",
       "<table border=\"1\" class=\"dataframe\">\n",
       "  <thead>\n",
       "    <tr style=\"text-align: right;\">\n",
       "      <th></th>\n",
       "      <th>order_no</th>\n",
       "      <th>title</th>\n",
       "      <th>text</th>\n",
       "      <th>date</th>\n",
       "      <th>cleaned_text</th>\n",
       "      <th>text_string</th>\n",
       "      <th>target</th>\n",
       "      <th>year</th>\n",
       "    </tr>\n",
       "  </thead>\n",
       "  <tbody>\n",
       "    <tr>\n",
       "      <th>337</th>\n",
       "      <td>10338</td>\n",
       "      <td>NaN</td>\n",
       "      <td>by virtue of the authority vested in me by sec...</td>\n",
       "      <td>NaN</td>\n",
       "      <td>['virtue', 'authority', 'vested', 'section', '...</td>\n",
       "      <td>virtue authority vested section 507 mutual sec...</td>\n",
       "      <td>0</td>\n",
       "      <td>NaN</td>\n",
       "    </tr>\n",
       "    <tr>\n",
       "      <th>338</th>\n",
       "      <td>10339</td>\n",
       "      <td>NaN</td>\n",
       "      <td>by virtue of the authority vested in me by sec...</td>\n",
       "      <td>NaN</td>\n",
       "      <td>['virtue', 'authority', 'vested', 'section', '...</td>\n",
       "      <td>virtue authority vested section 611 act entitl...</td>\n",
       "      <td>0</td>\n",
       "      <td>NaN</td>\n",
       "    </tr>\n",
       "    <tr>\n",
       "      <th>548</th>\n",
       "      <td>11515</td>\n",
       "      <td>NaN</td>\n",
       "      <td>march 13, 1970 by virtue of the authority ves...</td>\n",
       "      <td>NaN</td>\n",
       "      <td>['march', '13', '1970', 'virtue', 'authority',...</td>\n",
       "      <td>march 13 1970 virtue authority vested presiden...</td>\n",
       "      <td>0</td>\n",
       "      <td>NaN</td>\n",
       "    </tr>\n",
       "    <tr>\n",
       "      <th>2052</th>\n",
       "      <td>13704</td>\n",
       "      <td>NaN</td>\n",
       "      <td>federal register  part iii the president exe...</td>\n",
       "      <td>NaN</td>\n",
       "      <td>['federal', 'register', 'part', 'iii', 'presid...</td>\n",
       "      <td>federal register part iii president executive ...</td>\n",
       "      <td>0</td>\n",
       "      <td>NaN</td>\n",
       "    </tr>\n",
       "    <tr>\n",
       "      <th>2134</th>\n",
       "      <td>13866</td>\n",
       "      <td>NaN</td>\n",
       "      <td>please see this document's talk page for detai...</td>\n",
       "      <td>NaN</td>\n",
       "      <td>['please', 'see', 'document', 'talk', 'page', ...</td>\n",
       "      <td>please see document talk page detail verificat...</td>\n",
       "      <td>0</td>\n",
       "      <td>NaN</td>\n",
       "    </tr>\n",
       "    <tr>\n",
       "      <th>2158</th>\n",
       "      <td>13962</td>\n",
       "      <td>NaN</td>\n",
       "      <td>executive order 13962 of december 8, 2020 ensu...</td>\n",
       "      <td>NaN</td>\n",
       "      <td>['executive', 'order', '13962', 'december', '8...</td>\n",
       "      <td>executive order 13962 december 8 2020 ensuring...</td>\n",
       "      <td>0</td>\n",
       "      <td>NaN</td>\n",
       "    </tr>\n",
       "  </tbody>\n",
       "</table>\n",
       "</div>"
      ],
      "text/plain": [
       "      order_no title                                               text date  \\\n",
       "337      10338   NaN  by virtue of the authority vested in me by sec...  NaN   \n",
       "338      10339   NaN  by virtue of the authority vested in me by sec...  NaN   \n",
       "548      11515   NaN   march 13, 1970 by virtue of the authority ves...  NaN   \n",
       "2052     13704   NaN    federal register  part iii the president exe...  NaN   \n",
       "2134     13866   NaN  please see this document's talk page for detai...  NaN   \n",
       "2158     13962   NaN  executive order 13962 of december 8, 2020 ensu...  NaN   \n",
       "\n",
       "                                           cleaned_text  \\\n",
       "337   ['virtue', 'authority', 'vested', 'section', '...   \n",
       "338   ['virtue', 'authority', 'vested', 'section', '...   \n",
       "548   ['march', '13', '1970', 'virtue', 'authority',...   \n",
       "2052  ['federal', 'register', 'part', 'iii', 'presid...   \n",
       "2134  ['please', 'see', 'document', 'talk', 'page', ...   \n",
       "2158  ['executive', 'order', '13962', 'december', '8...   \n",
       "\n",
       "                                            text_string  target  year  \n",
       "337   virtue authority vested section 507 mutual sec...       0   NaN  \n",
       "338   virtue authority vested section 611 act entitl...       0   NaN  \n",
       "548   march 13 1970 virtue authority vested presiden...       0   NaN  \n",
       "2052  federal register part iii president executive ...       0   NaN  \n",
       "2134  please see document talk page detail verificat...       0   NaN  \n",
       "2158  executive order 13962 december 8 2020 ensuring...       0   NaN  "
      ]
     },
     "execution_count": 55,
     "metadata": {},
     "output_type": "execute_result"
    }
   ],
   "source": [
    "eo_df[eo_df['year'].isna()]"
   ]
  },
  {
   "cell_type": "code",
   "execution_count": 56,
   "metadata": {},
   "outputs": [],
   "source": [
    "# order 103338 https://www.presidency.ucsb.edu/documents/executive-order-10338-coordination-procedures-under-section-507-the-mutual-security-act\n",
    "eo_df.at[337, 'date'] = 'April 4, 1952'\n",
    "eo_df.at[337, 'year'] = 1952\n",
    "eo_df.at[337, 'title'] = 'Coordination Procedures Under Section 507 of the Mutual Security Act of 1951'\n",
    "\n",
    "# order 10339 https://www.archives.gov/federal-register/executive-orders/1952.html#10339\n",
    "eo_df.at[338, 'date'] = 'April 4, 1952'\n",
    "eo_df.at[338, 'year'] = 1952\n",
    "eo_df.at[338, 'title'] = 'Extensions of Time Relating to the Disposition of Certain Housing'\n",
    "\n",
    "# order 11515\n",
    "eo_df.at[548, 'date'] = 'March 13, 1970'\n",
    "eo_df.at[548, 'year'] = 1970\n",
    "\n",
    "# order 13704 https://www.govinfo.gov/content/pkg/DCPD-201500563/pdf/DCPD-201500563.pdf\n",
    "eo_df.at[2052, 'date'] = 'August 17, 2015'\n",
    "eo_df.at[2052, 'year'] = 2015\n",
    "eo_df.at[2052, 'title'] = 'Presidential Innovation Fellows Program'\n",
    "\n",
    "\n",
    "# order 13866 https://www.presidency.ucsb.edu/documents/executive-order-13866-adjustments-certain-rates-pay\n",
    "eo_df.at[2134, 'date'] = 'March 28, 2019'\n",
    "eo_df.at[2134, 'year'] = 2019\n",
    "eo_df.at[2134, 'title'] = 'Adjustments of Certain Rates of Pay'\n",
    "\n",
    "# order 13867 https://www.federalregister.gov/documents/2019/04/15/2019-07645/issuance-of-permits-with-respect-to-facilities-and-land-transportation-crossings-at-the\n",
    "eo_df.at[2135, 'date'] = 'April 10, 2019'\n",
    "eo_df.at[2135, 'year'] = 2019\n",
    "eo_df.at[2135, 'title'] = 'Issuance of Permits with Respect to Facilities and Land Transportation Crossings at the International Boundaries of the United States'\n",
    "\n",
    "# order 13962 https://www.presidency.ucsb.edu/documents/executive-order-13962-ensuring-access-united-states-government-covid-19-vaccines\n",
    "eo_df.at[2158, 'date'] = 'December 8, 2020'\n",
    "eo_df.at[2158, 'year'] = 2020\n",
    "eo_df.at[2158, 'title'] = 'Ensuring Access to United States Government COVID-19 Vaccines'"
   ]
  },
  {
   "cell_type": "code",
   "execution_count": 57,
   "metadata": {},
   "outputs": [
    {
     "data": {
      "text/html": [
       "<div>\n",
       "<style scoped>\n",
       "    .dataframe tbody tr th:only-of-type {\n",
       "        vertical-align: middle;\n",
       "    }\n",
       "\n",
       "    .dataframe tbody tr th {\n",
       "        vertical-align: top;\n",
       "    }\n",
       "\n",
       "    .dataframe thead th {\n",
       "        text-align: right;\n",
       "    }\n",
       "</style>\n",
       "<table border=\"1\" class=\"dataframe\">\n",
       "  <thead>\n",
       "    <tr style=\"text-align: right;\">\n",
       "      <th></th>\n",
       "      <th>order_no</th>\n",
       "      <th>title</th>\n",
       "      <th>text</th>\n",
       "      <th>date</th>\n",
       "      <th>cleaned_text</th>\n",
       "      <th>text_string</th>\n",
       "      <th>target</th>\n",
       "      <th>year</th>\n",
       "    </tr>\n",
       "  </thead>\n",
       "  <tbody>\n",
       "  </tbody>\n",
       "</table>\n",
       "</div>"
      ],
      "text/plain": [
       "Empty DataFrame\n",
       "Columns: [order_no, title, text, date, cleaned_text, text_string, target, year]\n",
       "Index: []"
      ]
     },
     "execution_count": 57,
     "metadata": {},
     "output_type": "execute_result"
    }
   ],
   "source": [
    "eo_df[eo_df['year'].isna()]"
   ]
  },
  {
   "cell_type": "code",
   "execution_count": 58,
   "metadata": {},
   "outputs": [
    {
     "data": {
      "text/plain": [
       "order_no        0\n",
       "title           9\n",
       "text            0\n",
       "date            0\n",
       "cleaned_text    0\n",
       "text_string     7\n",
       "target          0\n",
       "year            0\n",
       "dtype: int64"
      ]
     },
     "execution_count": 58,
     "metadata": {},
     "output_type": "execute_result"
    }
   ],
   "source": [
    "eo_df.isna().sum()"
   ]
  },
  {
   "cell_type": "code",
   "execution_count": 59,
   "metadata": {},
   "outputs": [
    {
     "data": {
      "text/plain": [
       "Legislation Number      0\n",
       "URL                     0\n",
       "Congress                0\n",
       "Title                   0\n",
       "Sponsor                 0\n",
       "Date of Introduction    0\n",
       "Chamber                 0\n",
       "Bill Number             0\n",
       "Text                    0\n",
       "cleaned_text            0\n",
       "text_string             0\n",
       "target                  0\n",
       "year                    0\n",
       "dtype: int64"
      ]
     },
     "execution_count": 59,
     "metadata": {},
     "output_type": "execute_result"
    }
   ],
   "source": [
    "laws_df.isna().sum()"
   ]
  },
  {
   "cell_type": "markdown",
   "metadata": {},
   "source": [
    "# EDA"
   ]
  },
  {
   "cell_type": "code",
   "execution_count": 71,
   "metadata": {},
   "outputs": [
    {
     "ename": "AttributeError",
     "evalue": "'float' object has no attribute 'split'",
     "output_type": "error",
     "traceback": [
      "\u001b[0;31m---------------------------------------------------------------------------\u001b[0m",
      "\u001b[0;31mAttributeError\u001b[0m                            Traceback (most recent call last)",
      "Cell \u001b[0;32mIn[71], line 3\u001b[0m\n\u001b[1;32m      1\u001b[0m fdist \u001b[38;5;241m=\u001b[39m FreqDist()\n\u001b[0;32m----> 3\u001b[0m eo_df[\u001b[38;5;124m'\u001b[39m\u001b[38;5;124mtokens\u001b[39m\u001b[38;5;124m'\u001b[39m] \u001b[38;5;241m=\u001b[39m [text\u001b[38;5;241m.\u001b[39msplit(\u001b[38;5;124m\"\u001b[39m\u001b[38;5;124m \u001b[39m\u001b[38;5;124m\"\u001b[39m) \u001b[38;5;28;01mfor\u001b[39;00m text \u001b[38;5;129;01min\u001b[39;00m eo_df[\u001b[38;5;124m'\u001b[39m\u001b[38;5;124mtext_string\u001b[39m\u001b[38;5;124m'\u001b[39m]]\n\u001b[1;32m      4\u001b[0m \u001b[38;5;28;01mfor\u001b[39;00m \u001b[38;5;28mlist\u001b[39m \u001b[38;5;129;01min\u001b[39;00m eo_df[\u001b[38;5;124m'\u001b[39m\u001b[38;5;124mtokens\u001b[39m\u001b[38;5;124m'\u001b[39m]:\n\u001b[1;32m      5\u001b[0m     \u001b[38;5;28;01mfor\u001b[39;00m word \u001b[38;5;129;01min\u001b[39;00m \u001b[38;5;28mlist\u001b[39m:\n",
      "Cell \u001b[0;32mIn[71], line 3\u001b[0m, in \u001b[0;36m<listcomp>\u001b[0;34m(.0)\u001b[0m\n\u001b[1;32m      1\u001b[0m fdist \u001b[38;5;241m=\u001b[39m FreqDist()\n\u001b[0;32m----> 3\u001b[0m eo_df[\u001b[38;5;124m'\u001b[39m\u001b[38;5;124mtokens\u001b[39m\u001b[38;5;124m'\u001b[39m] \u001b[38;5;241m=\u001b[39m [text\u001b[38;5;241m.\u001b[39msplit(\u001b[38;5;124m\"\u001b[39m\u001b[38;5;124m \u001b[39m\u001b[38;5;124m\"\u001b[39m) \u001b[38;5;28;01mfor\u001b[39;00m text \u001b[38;5;129;01min\u001b[39;00m eo_df[\u001b[38;5;124m'\u001b[39m\u001b[38;5;124mtext_string\u001b[39m\u001b[38;5;124m'\u001b[39m]]\n\u001b[1;32m      4\u001b[0m \u001b[38;5;28;01mfor\u001b[39;00m \u001b[38;5;28mlist\u001b[39m \u001b[38;5;129;01min\u001b[39;00m eo_df[\u001b[38;5;124m'\u001b[39m\u001b[38;5;124mtokens\u001b[39m\u001b[38;5;124m'\u001b[39m]:\n\u001b[1;32m      5\u001b[0m     \u001b[38;5;28;01mfor\u001b[39;00m word \u001b[38;5;129;01min\u001b[39;00m \u001b[38;5;28mlist\u001b[39m:\n",
      "\u001b[0;31mAttributeError\u001b[0m: 'float' object has no attribute 'split'"
     ]
    }
   ],
   "source": [
    "fdist = FreqDist()\n",
    "\n",
    "eo_df['tokens'] = [text.split(\" \") for text in eo_df['text_string']]\n",
    "for list in eo_df['tokens']:\n",
    "    for word in list:\n",
    "        fdist[word] += 1\n",
    "\n",
    "fdist.most_common(50)"
   ]
  }
 ],
 "metadata": {
  "kernelspec": {
   "display_name": "capstone",
   "language": "python",
   "name": "python3"
  },
  "language_info": {
   "codemirror_mode": {
    "name": "ipython",
    "version": 3
   },
   "file_extension": ".py",
   "mimetype": "text/x-python",
   "name": "python",
   "nbconvert_exporter": "python",
   "pygments_lexer": "ipython3",
   "version": "3.11.7"
  }
 },
 "nbformat": 4,
 "nbformat_minor": 2
}
